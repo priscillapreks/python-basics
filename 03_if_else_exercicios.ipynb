{
 "cells": [
  {
   "cell_type": "markdown",
   "metadata": {},
   "source": [
    "# #03 | Python Basics \n",
    "### Exercícios Estrutura de Decisão\n",
    "https://wiki.python.org.br/EstruturaDeDecisao"
   ]
  },
  {
   "cell_type": "code",
   "execution_count": 9,
   "metadata": {},
   "outputs": [
    {
     "name": "stdout",
     "output_type": "stream",
     "text": [
      "Informe o sexo: F / M f\n",
      "Feminino\n"
     ]
    }
   ],
   "source": [
    "# Faça um Programa que verifique se uma letra digitada é \"F\" ou \"M\". \n",
    "# Conforme a letra escrever: F - Feminino, M - Masculino, Informação inválida.  \n",
    "\n",
    "sexo = input('Informe o sexo: F / M ')\n",
    "\n",
    "if sexo == 'F' or sexo == 'f':\n",
    "    print('Feminino')\n",
    "    \n",
    "elif sexo == 'M' or sexo == 'm':\n",
    "    print('Masculino')\n",
    "    \n",
    "else:\n",
    "    print('Informação inválida')\n"
   ]
  },
  {
   "cell_type": "code",
   "execution_count": 20,
   "metadata": {},
   "outputs": [
    {
     "name": "stdout",
     "output_type": "stream",
     "text": [
      "Digite uma letra: E\n",
      "A letra e é uma vogal.\n"
     ]
    }
   ],
   "source": [
    "# Faça um Programa que verifique se uma letra digitada é vogal ou consoante.    \n",
    "\n",
    "letra = input('Digite uma letra: ')\n",
    "letra = letra.lower()\n",
    "\n",
    "if letra in ['a', 'e', 'i', 'o', 'u']:\n",
    "    print(f'A letra {letra} é uma vogal.')\n",
    "    \n",
    "else:\n",
    "    print(f'A letra {letra} é uma consoante.')\n"
   ]
  },
  {
   "cell_type": "code",
   "execution_count": 31,
   "metadata": {},
   "outputs": [
    {
     "name": "stdout",
     "output_type": "stream",
     "text": [
      "Insira a nota do 1 bimestre: 5.5\n",
      "Insira a nota do 2 bimestre: 7.5\n",
      "6.5\n",
      "Reprovado\n"
     ]
    }
   ],
   "source": [
    "# Faça um programa para a leitura de duas notas parciais de um aluno. \n",
    "\n",
    "# O programa deve calcular a média alcançada por aluno e apresentar:    \n",
    "# A mensagem \"Aprovado\", se a média alcançada for maior ou igual a sete;    \n",
    "# A mensagem \"Reprovado\", se a média for menor do que sete;    \n",
    "# A mensagem \"Aprovado com Distinção\", se a média for igual a dez.   \n",
    "\n",
    "sem1 = float(input('Insira a nota do 1 bimestre: '))\n",
    "sem2 = float(input('Insira a nota do 2 bimestre: '))\n",
    "media = (sem1 + sem2) / 2\n",
    "\n",
    "if media == 10:\n",
    "    print(media)\n",
    "    print('Aprovado com Distinção') \n",
    "    \n",
    "elif media >= 7:\n",
    "    print(media)\n",
    "    print('Aprovado')\n",
    "\n",
    "else:\n",
    "    print(media)\n",
    "    print('Reprovado')\n"
   ]
  },
  {
   "cell_type": "code",
   "execution_count": 45,
   "metadata": {},
   "outputs": [
    {
     "name": "stdout",
     "output_type": "stream",
     "text": [
      "Informe o turno: M / T / N m\n",
      "Bom dia!\n"
     ]
    }
   ],
   "source": [
    "# Faça um Programa que pergunte em que turno você estuda. \n",
    "# Peça para digitar M-matutino ou V-Vespertino ou N- Noturno. \n",
    "# Imprima a mensagem \"Bom Dia!\", \"Boa Tarde!\" ou \"Boa Noite!\" ou \"Valor Inválido!\", conforme o caso.    \n",
    "\n",
    "turno = input('Informe o turno: M / T / N ')\n",
    "turno = turno.upper()\n",
    "\n",
    "if turno == 'M':\n",
    "    print('Bom dia!')\n",
    "    \n",
    "elif turno == 'T': \n",
    "    print('Boa tarde!')\n",
    "    \n",
    "elif turno == 'N':\n",
    "    print('Boa noite!')\n",
    "    \n",
    "else:\n",
    "    print('Valor inválido!')  \n"
   ]
  },
  {
   "cell_type": "code",
   "execution_count": 5,
   "metadata": {},
   "outputs": [
    {
     "name": "stdout",
     "output_type": "stream",
     "text": [
      "Salário : 751,00\n",
      "Salário atual: R$ 751.00\n",
      "Aumento (10%): R$ 75.10\n",
      "Novo salário: R$ 826.10\n"
     ]
    }
   ],
   "source": [
    "# As Organizações Tabajara resolveram dar um aumento de salário aos seus colaboradores     \n",
    "# Faça um programa que recebe o salário de um colaborador e o reajuste segundo o seguinte critério, baseado no salário atual:    \n",
    "# salários até R$ 280,00 (incluindo) : aumento de 20%    \n",
    "# salários entre R$ 280,00 e R$ 700,00 : aumento de 15%    \n",
    "# salários entre R$ 700,00 e R$ 1500,00 : aumento de 10%    \n",
    "# salários de R$ 1500,00 em diante : aumento de 5% Após o aumento ser realizado, informe na tela:    \n",
    "# o salário antes do reajuste; o % de aumento aplicado; o valor do aumento; o novo salário, após o aumento.  \n",
    "\n",
    "salario = (input('Salário : '))\n",
    "salario = float(salario.replace(\",\",\".\"))\n",
    "                \n",
    "aum20 = salario * 20 / 100\n",
    "aum15 = salario * 15 / 100\n",
    "aum10 = salario * 10 / 100\n",
    "aum5 = salario * 5 / 100\n",
    "\n",
    "if salario <= 280:\n",
    "    print(f'Salário atual: R$ {salario:.2f}')\n",
    "    print(f'Aumento (20%): R$ {aum20:.2f}')\n",
    "    print(f'Novo salário: R$ {salario + aum20:.2f}')\n",
    "    \n",
    "elif salario > 280 and salario <= 700:\n",
    "    print(f'Salário atual: R$ {salario:.2f}')\n",
    "    print(f'Aumento (15%): R$ {aum15:.2f}')\n",
    "    print(f'Novo salário: R$ {salario + aum15:.2f}')\n",
    "    \n",
    "elif salario > 700 and salario <= 1500:\n",
    "    print(f'Salário atual: R$ {salario:.2f}')\n",
    "    print(f'Aumento (10%): R$ {aum10:.2f}')\n",
    "    print(f'Novo salário: R$ {salario + aum10:.2f}')\n",
    "    \n",
    "elif salario > 1500:\n",
    "    print(f'Salário atual: R$ {salario:.2f}')\n",
    "    print(f'Aumento (5%): R$ {aum5:.2f}')\n",
    "    print(f'Novo salário: R$ {salario + aum5:.2f}')\n",
    "    \n",
    "else:\n",
    "    print('Valor inválido')\n",
    "\n"
   ]
  },
  {
   "cell_type": "code",
   "execution_count": 10,
   "metadata": {},
   "outputs": [
    {
     "name": "stdout",
     "output_type": "stream",
     "text": [
      "Lado 1: 3\n",
      "Lado 2: 5\n",
      "Lado 3: 7\n",
      "Triângulo Escaleno\n"
     ]
    }
   ],
   "source": [
    "# Faça um Programa que peça os 3 lados de um triângulo. O programa deverá informar se os valores podem ser um triângulo. \n",
    "#Indique, caso os lados formem um triângulo, se o mesmo é:     \n",
    "# Triângulo Equilátero: três lados iguais;    \n",
    "# Triângulo Isósceles: quaisquer dois lados iguais;    \n",
    "# Triângulo Escaleno: três lados diferentes;    \n",
    "\n",
    "t1 = int(input('Lado 1: '))\n",
    "t2 = int(input('Lado 2: '))\n",
    "t3 = int(input('Lado 3: '))\n",
    "\n",
    "if t1 == t2 == t3:\n",
    "    print('Triângulo Equilátero')\n",
    "    \n",
    "elif t1 == t2 or t2 == t3 or t3 == t1:\n",
    "    print('Triângulo Isósceles')\n",
    "    \n",
    "elif t1 != t2 != t3:\n",
    "    print('Triângulo Escaleno')\n"
   ]
  },
  {
   "cell_type": "code",
   "execution_count": 21,
   "metadata": {},
   "outputs": [
    {
     "name": "stdout",
     "output_type": "stream",
     "text": [
      "Telefonou para a vítima? S / N S\n",
      "Esteve no local do crime? S / N S\n",
      "Mora perto da vítima? S / N S\n",
      "Devia para a vítima? S / N S\n",
      "Já trabalhou com a vítima? S / N N\n",
      "Respondeu positivamente a 4 questões\n",
      "Cúmplice\n"
     ]
    }
   ],
   "source": [
    "# Faça um programa que faça 5 perguntas para uma pessoa sobre um crime. As perguntas são:    \n",
    "# \"Telefonou para a vítima?\"    \n",
    "# \"Esteve no local do crime?\"    \n",
    "# \"Mora perto da vítima?\"    \n",
    "# \"Devia para a vítima?\"    \n",
    "# \"Já trabalhou com a vítima?\" \n",
    "\n",
    "# O programa deve no final emitir uma classificação sobre a participação da pessoa no crime. \n",
    "# Se a pessoa responder positivamente a 2 questões ela deve ser classificada como \"Suspeita\", \n",
    "# entre 3 e 4 como \"Cúmplice\" e 5 como \"Assassino\". Caso contrário, ele será classificado como \"Inocente\".\n",
    "\n",
    "r1 = input(\"Telefonou para a vítima? S / N \")\n",
    "r2 = input(\"Esteve no local do crime? S / N \")\n",
    "r3 = input(\"Mora perto da vítima? S / N \")\n",
    "r4 = input(\"Devia para a vítima? S / N \")\n",
    "r5 = input(\"Já trabalhou com a vítima? S / N \" )\n",
    "\n",
    "sim = [r1, r2, r3, r4, r5].count('S')\n",
    "\n",
    "print(f'Respondeu positivamente a {sim} questões')\n",
    "\n",
    "if sim == 2:\n",
    "    print('Suspeita')\n",
    "    \n",
    "elif sim == 3 or sim == 4:\n",
    "    print('Cúmplice')\n",
    "\n",
    "elif sim == 5:\n",
    "    print('Assassino')\n",
    "\n",
    "else:\n",
    "    print('Inocente')\n",
    "\n"
   ]
  },
  {
   "cell_type": "code",
   "execution_count": null,
   "metadata": {},
   "outputs": [],
   "source": []
  }
 ],
 "metadata": {
  "kernelspec": {
   "display_name": "Python 3",
   "language": "python",
   "name": "python3"
  },
  "language_info": {
   "codemirror_mode": {
    "name": "ipython",
    "version": 3
   },
   "file_extension": ".py",
   "mimetype": "text/x-python",
   "name": "python",
   "nbconvert_exporter": "python",
   "pygments_lexer": "ipython3",
   "version": "3.7.6"
  }
 },
 "nbformat": 4,
 "nbformat_minor": 2
}
